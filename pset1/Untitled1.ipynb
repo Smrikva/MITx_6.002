{
 "cells": [
  {
   "cell_type": "code",
   "execution_count": 2,
   "metadata": {},
   "outputs": [],
   "source": [
    "dict_cows = {'a': 1, 'b': 20, 'c': 3, 'd': 12, 'e': 2, 'f': 4, 'g':5, 'h':7}\n",
    "list_cows = sorted(dict_cows.items(), key=lambda x:x[1], reverse=True)\n",
    "list_cows = [list(x) for x in list_cows]\n",
    "limit = 20\n"
   ]
  },
  {
   "cell_type": "code",
   "execution_count": 3,
   "metadata": {},
   "outputs": [
    {
     "name": "stdout",
     "output_type": "stream",
     "text": [
      "current load is:[['b', 20]]\n",
      "['b', 20]\n",
      "current load is:[['d', 12], ['h', 7], ['a', 1]]\n",
      "['d', 12]\n",
      "['h', 7]\n",
      "['a', 1]\n",
      "current load is:[['g', 5], ['f', 4], ['c', 3], ['e', 2]]\n",
      "['g', 5]\n",
      "['f', 4]\n",
      "['c', 3]\n",
      "['e', 2]\n"
     ]
    }
   ],
   "source": [
    "current_weight = 0\n",
    "current_load = []\n",
    "trips = []\n",
    "while True:\n",
    "    for cow in list_cows:\n",
    "        if (current_weight+cow[1]) <= limit:\n",
    "                current_load.append(cow)\n",
    "                current_weight+=cow[1]\n",
    "    print('current load is:' + str(current_load))\n",
    "    trips.append(current_load)\n",
    "    for i in current_load:\n",
    "        print(i)\n",
    "        list_cows.remove(i)\n",
    "    if not list_cows:\n",
    "        break\n",
    "    current_load=[]\n",
    "    current_weight=0"
   ]
  },
  {
   "cell_type": "code",
   "execution_count": 4,
   "metadata": {},
   "outputs": [
    {
     "name": "stdout",
     "output_type": "stream",
     "text": [
      "[['b', 20]]\n",
      "[['d', 12], ['h', 7], ['a', 1]]\n",
      "[['g', 5], ['f', 4], ['c', 3], ['e', 2]]\n"
     ]
    }
   ],
   "source": [
    "for t in trips:\n",
    "    print(t)"
   ]
  },
  {
   "cell_type": "code",
   "execution_count": 5,
   "metadata": {},
   "outputs": [
    {
     "data": {
      "text/plain": [
       "[]"
      ]
     },
     "execution_count": 5,
     "metadata": {},
     "output_type": "execute_result"
    }
   ],
   "source": [
    "list_cows\n"
   ]
  },
  {
   "cell_type": "code",
   "execution_count": null,
   "metadata": {},
   "outputs": [],
   "source": []
  }
 ],
 "metadata": {
  "kernelspec": {
   "display_name": "Python 3",
   "language": "python",
   "name": "python3"
  },
  "language_info": {
   "codemirror_mode": {
    "name": "ipython",
    "version": 3
   },
   "file_extension": ".py",
   "mimetype": "text/x-python",
   "name": "python",
   "nbconvert_exporter": "python",
   "pygments_lexer": "ipython3",
   "version": "3.6.5"
  }
 },
 "nbformat": 4,
 "nbformat_minor": 2
}
